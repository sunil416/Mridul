{
 "cells": [
  {
   "cell_type": "markdown",
   "id": "28cc14e3",
   "metadata": {},
   "source": [
    "MultiModal RAG App for Video Processing With LlamaIndex and LanceDB\n",
    "1. llamaindex framework\n",
    "2. Lancedb Vector DataBase\n",
    "3. LLM MultiModAl GPT-4V or Google-gemini-pro-vision\n",
    "Steps Need to follow:\n",
    "1. Download video from YouTube, process and store it.\n",
    "2. Build Multi-Modal index and vector store for both texts and images.\n",
    "3. Retrieve relevant images and context, use both to augment the prompt.\n",
    "4. Using GPT4V for reasoning the correlations between the input query and augmented data and generating final response."
   ]
  },
  {
   "cell_type": "markdown",
   "id": "cd50ac3e",
   "metadata": {},
   "source": [
    "ffmpeg-library enables you to use FFmpeg in Python to manipulate various media files for different purposes like building comprehensive multimedia applications, preprocessing media files.\n",
    "\n",
    "MoviePy is a Python library for video editing, enabling cutting, concatenations, title insertions, video compositing, and effects like animations or color grading.\n",
    "\n",
    "Pytube is a Python library used for downloading videos from YouTube. It supports downloading in various formats, resolutions, and also direct audio extraction.\n",
    "\n",
    "Pydub is a Python library for audio manipulation, enabling easy loading, editing, and exporting of audio files in various formats with minimal code.\n",
    "\n",
    "The SpeechRecognition library in Python allows you to convert spoken language into text using various engines and APIs, such as Google Speech Recognition, IBM Speech to Text, etc.\n",
    "\n",
    "SoundFile is a Python library for reading from and writing to audio files, supporting many formats through the libsndfile library, ideal for high-quality audio processing.\n",
    "\n",
    "FTFY (Fix Text For You) is a Python library that fixes broken Unicode text and mojibake (garbled text due to encoding issues), making text legible again.\n",
    "\n",
    "OpenAI Whisper is a robust, multilingual speech recognition model developed by OpenAI. It converts speech into text and supports various languages with high accuracy.\n",
    "\n",
    "pprint is a Python module that provides a capability to \"pretty-print\" complex data structures in a well-formatted and more readable way than the basic print function.\n",
    "\n"
   ]
  },
  {
   "cell_type": "markdown",
   "id": "1179c861",
   "metadata": {},
   "source": []
  }
 ],
 "metadata": {
  "language_info": {
   "name": "python"
  }
 },
 "nbformat": 4,
 "nbformat_minor": 5
}
